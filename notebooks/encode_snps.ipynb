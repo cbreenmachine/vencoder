{
 "cells": [
  {
   "cell_type": "code",
   "execution_count": 119,
   "id": "2f407690-9fbd-4d14-8e35-624e1a538ff4",
   "metadata": {},
   "outputs": [],
   "source": [
    "import pandas as pd\n",
    "import numpy as np\n",
    "from Bio import SeqIO\n",
    "import argparse\n",
    "import torch\n",
    "import pickle\n",
    "import os"
   ]
  },
  {
   "cell_type": "code",
   "execution_count": 6,
   "id": "4360e427-5e4c-4a9e-95d0-5f08e9bb5ea4",
   "metadata": {},
   "outputs": [
    {
     "data": {
      "text/plain": [
       "['.ipynb_checkpoints', 'encode_snps.ipynb']"
      ]
     },
     "execution_count": 6,
     "metadata": {},
     "output_type": "execute_result"
    }
   ],
   "source": [
    "os.listdir()"
   ]
  },
  {
   "cell_type": "code",
   "execution_count": 7,
   "id": "f8fc17fb-c500-44d9-ae4c-a734e05964f7",
   "metadata": {},
   "outputs": [],
   "source": [
    "ref_file = \"../data/reference/chr22.fa\"\n",
    "methy_file = \"../data/methylation/253.bed\"\n",
    "snps_file = \"../data/variant-calls/253.pass.vcf\""
   ]
  },
  {
   "cell_type": "code",
   "execution_count": 8,
   "id": "35064584-744c-4442-b6be-6fc8f030064f",
   "metadata": {},
   "outputs": [],
   "source": [
    "def read_and_filter_vcf(ifile, chrom):\n",
    "    '''\n",
    "    Reads and extracts relevant information from VCF file\n",
    "    '''\n",
    "    # ifile = \"../../data/variant-calls/253.snps.vcf\"\n",
    "    df = pd.read_csv(ifile, \n",
    "                     sep='\\t', \n",
    "                     comment='#', \n",
    "                     header=None, \n",
    "                     usecols=[0, 1, 3, 4, 9],\n",
    "                     names=['chrom', 'pos', 'reference', 'alternate', 'extra_info']\n",
    "                     )\n",
    "    \n",
    "    # Filter to shrink the number of comparisons that need to be made\n",
    "    df = df.loc[df['chrom'] == chrom]\n",
    "    \n",
    "    # Pull out the SNP call\n",
    "    df['variant_call'] = df['extra_info'].str[:3]\n",
    "\n",
    "    # Get rid of Ns, indicate that ref homozygous\n",
    "    df = df[df['reference'].isin(['A', 'C', 'G', 'T'])]\n",
    "\n",
    "    # Makes iteration work\n",
    "    df = df.drop(columns=['extra_info'])\n",
    "    df = df.set_index(\"pos\")\n",
    "\n",
    "    return df"
   ]
  },
  {
   "cell_type": "code",
   "execution_count": 9,
   "id": "87481ed0-ae6c-430a-9c69-3bca2327079f",
   "metadata": {},
   "outputs": [],
   "source": [
    "snps_df = read_and_filter_vcf(snps_file, \"chr20\")"
   ]
  },
  {
   "cell_type": "code",
   "execution_count": 10,
   "id": "303f039e-d87f-4a01-bbe4-4890f3b766b3",
   "metadata": {},
   "outputs": [
    {
     "data": {
      "text/html": [
       "<div>\n",
       "<style scoped>\n",
       "    .dataframe tbody tr th:only-of-type {\n",
       "        vertical-align: middle;\n",
       "    }\n",
       "\n",
       "    .dataframe tbody tr th {\n",
       "        vertical-align: top;\n",
       "    }\n",
       "\n",
       "    .dataframe thead th {\n",
       "        text-align: right;\n",
       "    }\n",
       "</style>\n",
       "<table border=\"1\" class=\"dataframe\">\n",
       "  <thead>\n",
       "    <tr style=\"text-align: right;\">\n",
       "      <th></th>\n",
       "      <th>chrom</th>\n",
       "      <th>reference</th>\n",
       "      <th>alternate</th>\n",
       "      <th>variant_call</th>\n",
       "    </tr>\n",
       "    <tr>\n",
       "      <th>pos</th>\n",
       "      <th></th>\n",
       "      <th></th>\n",
       "      <th></th>\n",
       "      <th></th>\n",
       "    </tr>\n",
       "  </thead>\n",
       "  <tbody>\n",
       "    <tr>\n",
       "      <th>61083</th>\n",
       "      <td>chr20</td>\n",
       "      <td>C</td>\n",
       "      <td>T</td>\n",
       "      <td>0/1</td>\n",
       "    </tr>\n",
       "    <tr>\n",
       "      <th>61406</th>\n",
       "      <td>chr20</td>\n",
       "      <td>T</td>\n",
       "      <td>C</td>\n",
       "      <td>0/1</td>\n",
       "    </tr>\n",
       "    <tr>\n",
       "      <th>61433</th>\n",
       "      <td>chr20</td>\n",
       "      <td>C</td>\n",
       "      <td>T</td>\n",
       "      <td>0/1</td>\n",
       "    </tr>\n",
       "    <tr>\n",
       "      <th>61540</th>\n",
       "      <td>chr20</td>\n",
       "      <td>A</td>\n",
       "      <td>G</td>\n",
       "      <td>0/1</td>\n",
       "    </tr>\n",
       "    <tr>\n",
       "      <th>61558</th>\n",
       "      <td>chr20</td>\n",
       "      <td>T</td>\n",
       "      <td>A</td>\n",
       "      <td>0/1</td>\n",
       "    </tr>\n",
       "  </tbody>\n",
       "</table>\n",
       "</div>"
      ],
      "text/plain": [
       "       chrom reference alternate variant_call\n",
       "pos                                          \n",
       "61083  chr20         C         T          0/1\n",
       "61406  chr20         T         C          0/1\n",
       "61433  chr20         C         T          0/1\n",
       "61540  chr20         A         G          0/1\n",
       "61558  chr20         T         A          0/1"
      ]
     },
     "execution_count": 10,
     "metadata": {},
     "output_type": "execute_result"
    }
   ],
   "source": [
    "snps_df.head()"
   ]
  },
  {
   "cell_type": "code",
   "execution_count": 11,
   "id": "9a229785-f66f-45f5-8c31-7c73c264a1c8",
   "metadata": {},
   "outputs": [],
   "source": [
    "\n",
    "def read_fa(ifile, chrom):\n",
    "    dict = SeqIO.to_dict(SeqIO.parse(open(ifile), 'fasta'))\n",
    "    return(dict[chrom])\n",
    "\n",
    "ref_seq = read_fa(ref_file, 'chr22')"
   ]
  },
  {
   "cell_type": "code",
   "execution_count": 12,
   "id": "5e96bd69-637f-4b14-ab58-2efdde840ff8",
   "metadata": {},
   "outputs": [],
   "source": [
    "chrom = \"chr22\""
   ]
  },
  {
   "cell_type": "code",
   "execution_count": 44,
   "id": "66419cff-fe93-494f-9c60-e12f6e37737c",
   "metadata": {},
   "outputs": [],
   "source": [
    "def read_methy_data(ifile, chrom, min_coverage = 10):\n",
    "    full_df = pd.read_table(ifile)\n",
    "\n",
    "    sub_df = full_df.loc[(full_df['chrom'] == chrom) & (full_df['coverage'] >= min_coverage)].copy(deep=True)\n",
    "    \n",
    "    sub_df['pos'] = sub_df.chromStart + 1\n",
    "    \n",
    "    sub_df.set_index('pos', inplace = True)\n",
    "    \n",
    "    return(sub_df[['methylated', 'coverage', 'strand']])\n",
    "\n",
    "    "
   ]
  },
  {
   "cell_type": "code",
   "execution_count": 45,
   "id": "2061e3ca-2f0f-4773-af92-6b5f1445b6ee",
   "metadata": {},
   "outputs": [],
   "source": [
    "methy_df = read_methy_data(methy_file, chrom)"
   ]
  },
  {
   "cell_type": "code",
   "execution_count": 46,
   "id": "f0fc3bfe-7df7-41d0-920e-863d40851014",
   "metadata": {},
   "outputs": [
    {
     "data": {
      "text/html": [
       "<div>\n",
       "<style scoped>\n",
       "    .dataframe tbody tr th:only-of-type {\n",
       "        vertical-align: middle;\n",
       "    }\n",
       "\n",
       "    .dataframe tbody tr th {\n",
       "        vertical-align: top;\n",
       "    }\n",
       "\n",
       "    .dataframe thead th {\n",
       "        text-align: right;\n",
       "    }\n",
       "</style>\n",
       "<table border=\"1\" class=\"dataframe\">\n",
       "  <thead>\n",
       "    <tr style=\"text-align: right;\">\n",
       "      <th></th>\n",
       "      <th>methylated</th>\n",
       "      <th>coverage</th>\n",
       "      <th>strand</th>\n",
       "    </tr>\n",
       "    <tr>\n",
       "      <th>pos</th>\n",
       "      <th></th>\n",
       "      <th></th>\n",
       "      <th></th>\n",
       "    </tr>\n",
       "  </thead>\n",
       "  <tbody>\n",
       "    <tr>\n",
       "      <th>10572576</th>\n",
       "      <td>11</td>\n",
       "      <td>12</td>\n",
       "      <td>+/-</td>\n",
       "    </tr>\n",
       "    <tr>\n",
       "      <th>10572578</th>\n",
       "      <td>11</td>\n",
       "      <td>11</td>\n",
       "      <td>+/-</td>\n",
       "    </tr>\n",
       "    <tr>\n",
       "      <th>10572593</th>\n",
       "      <td>6</td>\n",
       "      <td>10</td>\n",
       "      <td>+/-</td>\n",
       "    </tr>\n",
       "    <tr>\n",
       "      <th>10598651</th>\n",
       "      <td>9</td>\n",
       "      <td>10</td>\n",
       "      <td>+/-</td>\n",
       "    </tr>\n",
       "    <tr>\n",
       "      <th>10615942</th>\n",
       "      <td>7</td>\n",
       "      <td>24</td>\n",
       "      <td>+/-</td>\n",
       "    </tr>\n",
       "  </tbody>\n",
       "</table>\n",
       "</div>"
      ],
      "text/plain": [
       "          methylated  coverage strand\n",
       "pos                                  \n",
       "10572576          11        12    +/-\n",
       "10572578          11        11    +/-\n",
       "10572593           6        10    +/-\n",
       "10598651           9        10    +/-\n",
       "10615942           7        24    +/-"
      ]
     },
     "execution_count": 46,
     "metadata": {},
     "output_type": "execute_result"
    }
   ],
   "source": [
    "methy_df.head()"
   ]
  },
  {
   "cell_type": "code",
   "execution_count": 49,
   "id": "c9a95544-3a31-4afc-ae64-18209fd009fa",
   "metadata": {},
   "outputs": [
    {
     "data": {
      "text/plain": [
       "0.9970046456250872"
      ]
     },
     "execution_count": 49,
     "metadata": {},
     "output_type": "execute_result"
    }
   ],
   "source": [
    "def check_methy_against_ref(ref_seq, methy_df):\n",
    "    '''\n",
    "    Checks whether the (pos)th values in ref_seq are cytosines. \n",
    "    '''\n",
    "\n",
    "    count = 0\n",
    "    num_cytosines = 0\n",
    "\n",
    "    while (count < 100):\n",
    "        # Loop through reference sequence\n",
    "        for i, nt in enumerate(ref_seq):\n",
    "            # pos will be one-based index of ref sequences\n",
    "            pos = i + 1\n",
    "\n",
    "            # If this position is in \n",
    "            if pos in methy_df.index:\n",
    "                # Look at whether this is a C in the reference\n",
    "                if nt == \"C\":\n",
    "                    num_cytosines += 1\n",
    "                count += 1\n",
    "\n",
    "    return(num_cytosines / count)\n",
    "\n",
    "check_methy_against_ref(ref_seq, methy_df)"
   ]
  },
  {
   "cell_type": "code",
   "execution_count": 93,
   "id": "7bcd6874-60ca-4106-874c-2acf4725faae",
   "metadata": {},
   "outputs": [],
   "source": [
    "\n",
    "\n",
    "def encode_one_letter(x):\n",
    "    '''Given A, C, G, T return one-hot encoding'''\n",
    "    out = np.zeros((4,),dtype = 'float32')\n",
    "\n",
    "    if x == \"A\":\n",
    "        out[0] = 1\n",
    "    elif x == \"C\":\n",
    "        out[1] = 1\n",
    "    elif x == \"G\":\n",
    "        out[2] = 1\n",
    "    elif x == \"T\":\n",
    "        out[3] = 1\n",
    "    \n",
    "    return(out)\n",
    "\n",
    "\n",
    "def encode_snp(row):\n",
    "    '''\n",
    "    Given chrom\tpos\treference\talternate\tvariant_call\n",
    "    encode with fractionals\n",
    "    '''\n",
    "    ref, alt, vc = row['reference'], row['alternate'], row['variant_call']\n",
    "\n",
    "    if vc == \"0/1\":\n",
    "        output = (encode_one_letter(ref) + encode_one_letter(alt)) / 2\n",
    "    elif vc == \"1/1\":\n",
    "        output = encode_one_letter(alt)\n",
    "    elif vc == \"1/2\":\n",
    "        alt_split = alt.split(alt)\n",
    "        non_alt = np.setdiff1d(['A', 'C', 'G', 'T'], [ref])\n",
    "        output = (encode_one_letter(non_alt[0]) + encode_one_letter(non_alt[1]) + encode_one_letter(non_alt[2])) / 3\n",
    "    return output\n",
    "\n",
    "\n",
    "def run_one_hot_encoder(sequence, snp_df):\n",
    "    '''Workhorse function to encode a long string, swapping in snps when necessesary\n",
    "    \n",
    "    Arguments\n",
    "    ---------\n",
    "    sequence: str\n",
    "        A (long) string of A, C, T, G defining the reference sequences\n",
    "    '''\n",
    "\n",
    "    n_snps = 0\n",
    "    l = len(sequence)\n",
    "\n",
    "    # No need to be precise, everyhting divisible by 8\n",
    "    x = np.zeros((l, 4), dtype = 'float')\n",
    "\n",
    "    # Remember that i starts at zero, \n",
    "    # whereas the positions in the VCF start at 1\n",
    "    for i, nt in enumerate(sequence):\n",
    "        # For position\n",
    "        pos = i + 1\n",
    "\n",
    "        if pos in snp_df.index:\n",
    "            x[i, :] = encode_snp(snp_df.loc[pos])\n",
    "            n_snps += 1\n",
    "        else:\n",
    "            x[i, :] = encode_one_letter(nt)\n",
    "    return x, n_snps"
   ]
  },
  {
   "cell_type": "code",
   "execution_count": 114,
   "id": "57987ac1-ae30-4493-9e77-38aca5ff58e5",
   "metadata": {},
   "outputs": [
    {
     "data": {
      "text/plain": [
       "Seq('TGCGCC')"
      ]
     },
     "execution_count": 114,
     "metadata": {},
     "output_type": "execute_result"
    }
   ],
   "source": [
    "w = 2\n",
    "\n",
    "pos = methy_df.index[20000]\n",
    "\n",
    "# Move left index back one to account for zero-based\n",
    "lix = pos - w - 1\n",
    "rix = pos + w + 1\n",
    "\n",
    "seq = ref_seq[lix:rix].seq\n",
    "seq"
   ]
  },
  {
   "cell_type": "code",
   "execution_count": 101,
   "id": "3058bcab-246f-4e9e-9b60-0acdf83c5dae",
   "metadata": {},
   "outputs": [
    {
     "name": "stdout",
     "output_type": "stream",
     "text": [
      "Iteration 0\n"
     ]
    },
    {
     "ename": "KeyboardInterrupt",
     "evalue": "",
     "output_type": "error",
     "traceback": [
      "\u001b[0;31m---------------------------------------------------------------------------\u001b[0m",
      "\u001b[0;31mKeyboardInterrupt\u001b[0m                         Traceback (most recent call last)",
      "Cell \u001b[0;32mIn[101], line 22\u001b[0m\n\u001b[1;32m     18\u001b[0m rix \u001b[38;5;241m=\u001b[39m pos \u001b[38;5;241m+\u001b[39m w \n\u001b[1;32m     20\u001b[0m seq \u001b[38;5;241m=\u001b[39m ref_seq[lix:rix]\u001b[38;5;241m.\u001b[39mseq\n\u001b[0;32m---> 22\u001b[0m one_hot_matrix, n_snps \u001b[38;5;241m=\u001b[39m \u001b[43mrun_one_hot_encoder\u001b[49m\u001b[43m(\u001b[49m\u001b[43mseq\u001b[49m\u001b[43m,\u001b[49m\u001b[43m \u001b[49m\u001b[43msnps_df\u001b[49m\u001b[43m)\u001b[49m\n\u001b[1;32m     23\u001b[0m counts \u001b[38;5;241m=\u001b[39m row[[\u001b[38;5;124m'\u001b[39m\u001b[38;5;124mmethylated\u001b[39m\u001b[38;5;124m'\u001b[39m, \u001b[38;5;124m'\u001b[39m\u001b[38;5;124mcoverage\u001b[39m\u001b[38;5;124m'\u001b[39m]]\n\u001b[1;32m     25\u001b[0m all_pos\u001b[38;5;241m.\u001b[39mappend(pos)\n",
      "Cell \u001b[0;32mIn[93], line 60\u001b[0m, in \u001b[0;36mrun_one_hot_encoder\u001b[0;34m(sequence, snp_df)\u001b[0m\n\u001b[1;32m     58\u001b[0m         n_snps \u001b[38;5;241m+\u001b[39m\u001b[38;5;241m=\u001b[39m \u001b[38;5;241m1\u001b[39m\n\u001b[1;32m     59\u001b[0m     \u001b[38;5;28;01melse\u001b[39;00m:\n\u001b[0;32m---> 60\u001b[0m         x[i, :] \u001b[38;5;241m=\u001b[39m \u001b[43mencode_one_letter\u001b[49m\u001b[43m(\u001b[49m\u001b[43mnt\u001b[49m\u001b[43m)\u001b[49m\n\u001b[1;32m     61\u001b[0m \u001b[38;5;28;01mreturn\u001b[39;00m x, n_snps\n",
      "Cell \u001b[0;32mIn[93], line 3\u001b[0m, in \u001b[0;36mencode_one_letter\u001b[0;34m(x)\u001b[0m\n\u001b[1;32m      1\u001b[0m \u001b[38;5;28;01mdef\u001b[39;00m \u001b[38;5;21mencode_one_letter\u001b[39m(x):\n\u001b[1;32m      2\u001b[0m \u001b[38;5;250m    \u001b[39m\u001b[38;5;124;03m'''Given A, C, G, T return one-hot encoding'''\u001b[39;00m\n\u001b[0;32m----> 3\u001b[0m     out \u001b[38;5;241m=\u001b[39m \u001b[43mnp\u001b[49m\u001b[38;5;241;43m.\u001b[39;49m\u001b[43mzeros\u001b[49m\u001b[43m(\u001b[49m\u001b[43m(\u001b[49m\u001b[38;5;241;43m4\u001b[39;49m\u001b[43m,\u001b[49m\u001b[43m)\u001b[49m\u001b[43m,\u001b[49m\u001b[43mdtype\u001b[49m\u001b[43m \u001b[49m\u001b[38;5;241;43m=\u001b[39;49m\u001b[43m \u001b[49m\u001b[38;5;124;43m'\u001b[39;49m\u001b[38;5;124;43mfloat32\u001b[39;49m\u001b[38;5;124;43m'\u001b[39;49m\u001b[43m)\u001b[49m\n\u001b[1;32m      5\u001b[0m     \u001b[38;5;28;01mif\u001b[39;00m x \u001b[38;5;241m==\u001b[39m \u001b[38;5;124m\"\u001b[39m\u001b[38;5;124mA\u001b[39m\u001b[38;5;124m\"\u001b[39m:\n\u001b[1;32m      6\u001b[0m         out[\u001b[38;5;241m0\u001b[39m] \u001b[38;5;241m=\u001b[39m \u001b[38;5;241m1\u001b[39m\n",
      "\u001b[0;31mKeyboardInterrupt\u001b[0m: "
     ]
    }
   ],
   "source": [
    "w = 499\n",
    "\n",
    "# Initialize lists\n",
    "all_pos = []\n",
    "all_counts = []\n",
    "all_encodings = []\n",
    "all_snps = []\n",
    "\n",
    "iter = 0\n",
    "\n",
    "for pos, row in methy_df.iterrows():\n",
    "\n",
    "    if (iter % 100000 == 0):\n",
    "        print(f\"Iteration {iter}\")\n",
    "\n",
    "    \n",
    "    lix = pos - w - 1\n",
    "    rix = pos + w + 1\n",
    "\n",
    "    seq = ref_seq[lix:rix].seq\n",
    "\n",
    "    one_hot_matrix, n_snps = run_one_hot_encoder(seq, snps_df)\n",
    "    counts = row[['methylated', 'coverage']]\n",
    "\n",
    "    all_pos.append(pos)\n",
    "    all_counts.append(counts)\n",
    "    all_encodings.append(one_hot_matrix)\n",
    "    all_snps.append(n_snps)\n",
    "    \n",
    "    iter += 1\n",
    "\n",
    "\n"
   ]
  },
  {
   "cell_type": "code",
   "execution_count": 118,
   "id": "9351fab5-d1a2-41e4-8299-3fdd841da9d6",
   "metadata": {},
   "outputs": [],
   "source": [
    "output = {\n",
    "    'features': torch.tensor(np.array(all_encodings)).type(torch.uint8),\n",
    "    'counts': torch.tensor(all_counts).type(torch.uint8),\n",
    "    'position': np.array(all_pos),\n",
    "    'n_snps': np.array(all_snps)\n",
    "}\n",
    "    "
   ]
  },
  {
   "cell_type": "code",
   "execution_count": 120,
   "id": "47c2abd6-77fb-47d0-aa4c-1ad2cc0e7f49",
   "metadata": {},
   "outputs": [],
   "source": [
    "with open('../data/test.pkl', 'wb') as fp:\n",
    "    pickle.dump(output, fp)"
   ]
  },
  {
   "cell_type": "code",
   "execution_count": 122,
   "id": "842a3539-c85f-43d9-8b8f-98e1ee889bfe",
   "metadata": {},
   "outputs": [],
   "source": [
    "output2 = {\n",
    "    'features': torch.tensor(np.array(all_encodings)).type(torch.uint8),\n",
    "    'counts': torch.tensor(all_counts).type(torch.uint8),\n",
    "    'position': torch.tensor(all_pos).type(torch.uint8),\n",
    "    'n_snps': torch.tensor(all_snps).type(torch.uint8)\n",
    "}"
   ]
  },
  {
   "cell_type": "code",
   "execution_count": 123,
   "id": "4fd8552f-ddf0-41d4-80e4-efedc8380124",
   "metadata": {},
   "outputs": [],
   "source": [
    "torch.save(output2, '../data/test.torch.pt')"
   ]
  },
  {
   "cell_type": "code",
   "execution_count": 124,
   "id": "fb50840b-18b3-4c77-94c1-1aac4477dfcb",
   "metadata": {},
   "outputs": [],
   "source": [
    "z = torch.load('../data/test.torch.pt')"
   ]
  },
  {
   "cell_type": "code",
   "execution_count": 125,
   "id": "4094b93b-bf72-45ec-90a3-a9e4817154e8",
   "metadata": {},
   "outputs": [
    {
     "data": {
      "text/plain": [
       "tensor([[[0, 0, 1, 0],\n",
       "         [0, 1, 0, 0],\n",
       "         [0, 1, 0, 0],\n",
       "         ...,\n",
       "         [0, 0, 0, 1],\n",
       "         [0, 0, 0, 1],\n",
       "         [0, 0, 0, 1]],\n",
       "\n",
       "        [[0, 1, 0, 0],\n",
       "         [0, 0, 1, 0],\n",
       "         [1, 0, 0, 0],\n",
       "         ...,\n",
       "         [0, 0, 0, 1],\n",
       "         [1, 0, 0, 0],\n",
       "         [0, 0, 0, 1]],\n",
       "\n",
       "        [[0, 1, 0, 0],\n",
       "         [0, 1, 0, 0],\n",
       "         [0, 1, 0, 0],\n",
       "         ...,\n",
       "         [0, 0, 0, 1],\n",
       "         [0, 0, 1, 0],\n",
       "         [0, 0, 0, 1]],\n",
       "\n",
       "        ...,\n",
       "\n",
       "        [[0, 1, 0, 0],\n",
       "         [0, 0, 1, 0],\n",
       "         [0, 0, 1, 0],\n",
       "         ...,\n",
       "         [0, 0, 1, 0],\n",
       "         [0, 0, 0, 1],\n",
       "         [0, 1, 0, 0]],\n",
       "\n",
       "        [[0, 1, 0, 0],\n",
       "         [1, 0, 0, 0],\n",
       "         [0, 1, 0, 0],\n",
       "         ...,\n",
       "         [0, 0, 0, 1],\n",
       "         [0, 0, 1, 0],\n",
       "         [0, 1, 0, 0]],\n",
       "\n",
       "        [[1, 0, 0, 0],\n",
       "         [0, 0, 1, 0],\n",
       "         [0, 1, 0, 0],\n",
       "         ...,\n",
       "         [0, 1, 0, 0],\n",
       "         [1, 0, 0, 0],\n",
       "         [0, 1, 0, 0]]], dtype=torch.uint8)"
      ]
     },
     "execution_count": 125,
     "metadata": {},
     "output_type": "execute_result"
    }
   ],
   "source": [
    "z['features']"
   ]
  },
  {
   "cell_type": "code",
   "execution_count": null,
   "id": "e2ab2085-a0b7-455e-a80f-a7ef070f4899",
   "metadata": {},
   "outputs": [],
   "source": []
  }
 ],
 "metadata": {
  "kernelspec": {
   "display_name": "Python 3 (ipykernel)",
   "language": "python",
   "name": "python3"
  },
  "language_info": {
   "codemirror_mode": {
    "name": "ipython",
    "version": 3
   },
   "file_extension": ".py",
   "mimetype": "text/x-python",
   "name": "python",
   "nbconvert_exporter": "python",
   "pygments_lexer": "ipython3",
   "version": "3.8.18"
  }
 },
 "nbformat": 4,
 "nbformat_minor": 5
}
